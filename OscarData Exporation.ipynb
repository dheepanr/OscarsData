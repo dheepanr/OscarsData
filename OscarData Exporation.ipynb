{
 "cells": [
  {
   "cell_type": "markdown",
   "metadata": {},
   "source": [
    "# Scraped Ocars Data"
   ]
  },
  {
   "cell_type": "code",
   "execution_count": 1,
   "metadata": {
    "collapsed": true
   },
   "outputs": [],
   "source": [
    "import pandas as pd\n",
    "import requests as rq\n",
    "\n",
    "OscarsData = pd.read_excel('dropboxoscars.xlsx')"
   ]
  },
  {
   "cell_type": "code",
   "execution_count": 5,
   "metadata": {
    "collapsed": false
   },
   "outputs": [
    {
     "name": "stdout",
     "output_type": "stream",
     "text": [
      "   index  year       movietitle releasedate  boxoffice    director  \\\n",
      "0      0  2000  American Beauty  1999-10-01  130058047  Sam Mendes   \n",
      "1      1  2000  American Beauty  1999-10-01  130058047  Sam Mendes   \n",
      "2      2  2000  American Beauty  1999-10-01  130058047  Sam Mendes   \n",
      "3      3  2000  American Beauty  1999-10-01  130058047  Sam Mendes   \n",
      "4      4  2000  American Beauty  1999-10-01  130058047  Sam Mendes   \n",
      "5      5  2000  American Beauty  1999-10-01  130058047  Sam Mendes   \n",
      "6      6  2000  American Beauty  1999-10-01  130058047  Sam Mendes   \n",
      "7      7  2000  American Beauty  1999-10-01  130058047  Sam Mendes   \n",
      "8      8  2000  American Beauty  1999-10-01  130058047  Sam Mendes   \n",
      "9      9  2000  American Beauty  1999-10-01  130058047  Sam Mendes   \n",
      "\n",
      "   directorage directorgender  winner  reviewagg     ...        nps  \\\n",
      "0           35           male  winner        8.4     ...       42.3   \n",
      "1           35           male  winner        8.4     ...       42.3   \n",
      "2           35           male  winner        8.4     ...       42.3   \n",
      "3           35           male  winner        8.4     ...       42.3   \n",
      "4           35           male  winner        8.4     ...       42.3   \n",
      "5           35           male  winner        8.4     ...       42.3   \n",
      "6           35           male  winner        8.4     ...       42.3   \n",
      "7           35           male  winner        8.4     ...       42.3   \n",
      "8           35           male  winner        8.4     ...       42.3   \n",
      "9           35           male  winner        8.4     ...       42.3   \n",
      "\n",
      "   releasemonth  releaseyear  malepercent  femalepercent  under18percent  \\\n",
      "0            10         1999    79.008754      20.991246        0.707269   \n",
      "1            10         1999    79.008754      20.991246        0.707269   \n",
      "2            10         1999    79.008754      20.991246        0.707269   \n",
      "3            10         1999    79.008754      20.991246        0.707269   \n",
      "4            10         1999    79.008754      20.991246        0.707269   \n",
      "5            10         1999    79.008754      20.991246        0.707269   \n",
      "6            10         1999    79.008754      20.991246        0.707269   \n",
      "7            10         1999    79.008754      20.991246        0.707269   \n",
      "8            10         1999    79.008754      20.991246        0.707269   \n",
      "9            10         1999    79.008754      20.991246        0.707269   \n",
      "\n",
      "   thirtyto44percent  over44percent  source  criticdelta  \n",
      "0          51.954252      47.338479    IMDB           -5  \n",
      "1          51.954252      47.338479    IMDB           -5  \n",
      "2          51.954252      47.338479    IMDB           -5  \n",
      "3          51.954252      47.338479    IMDB           -5  \n",
      "4          51.954252      47.338479    IMDB           -5  \n",
      "5          51.954252      47.338479    IMDB           -5  \n",
      "6          51.954252      47.338479    IMDB           -5  \n",
      "7          51.954252      47.338479    IMDB           -5  \n",
      "8          51.954252      47.338479    IMDB           -5  \n",
      "9          51.954252      47.338479    IMDB           -5  \n",
      "\n",
      "[10 rows x 42 columns]\n"
     ]
    }
   ],
   "source": [
    "print OscarsData.head(10)"
   ]
  },
  {
   "cell_type": "markdown",
   "metadata": {},
   "source": [
    "Prepare movietititles for Clarabridge API calls"
   ]
  },
  {
   "cell_type": "code",
   "execution_count": 8,
   "metadata": {
    "collapsed": false
   },
   "outputs": [],
   "source": [
    "movienames = [\"MOVIETITLES:\"+movie for movie in OscarsData.movietitle.unique().tolist()]"
   ]
  },
  {
   "cell_type": "code",
   "execution_count": 10,
   "metadata": {
    "collapsed": false
   },
   "outputs": [
    {
     "data": {
      "text/plain": [
       "[u'MOVIETITLES:American Beauty',\n",
       " u'MOVIETITLES:The Cider House Rules',\n",
       " u'MOVIETITLES:The Green Mile',\n",
       " u'MOVIETITLES:The Insider',\n",
       " u'MOVIETITLES:The Sixth Sense']"
      ]
     },
     "execution_count": 10,
     "metadata": {},
     "output_type": "execute_result"
    }
   ],
   "source": [
    "movienames[0:5]"
   ]
  },
  {
   "cell_type": "code",
   "execution_count": 15,
   "metadata": {
    "collapsed": false
   },
   "outputs": [],
   "source": [
    "movienames = pd.DataFrame(movienames)"
   ]
  },
  {
   "cell_type": "code",
   "execution_count": 16,
   "metadata": {
    "collapsed": false
   },
   "outputs": [
    {
     "name": "stdout",
     "output_type": "stream",
     "text": [
      "                                                     0\n",
      "0                          MOVIETITLES:American Beauty\n",
      "1                    MOVIETITLES:The Cider House Rules\n",
      "2                           MOVIETITLES:The Green Mile\n",
      "3                              MOVIETITLES:The Insider\n",
      "4                          MOVIETITLES:The Sixth Sense\n",
      "5                                MOVIETITLES:Gladiator\n",
      "6                                 MOVIETITLES:Chocolat\n",
      "7           MOVIETITLES:Crouching Tiger, Hidden Dragon\n",
      "8                          MOVIETITLES:Erin Brockovich\n",
      "9                                  MOVIETITLES:Traffic\n",
      "10                        MOVIETITLES:A Beautiful Mind\n",
      "11                            MOVIETITLES:Gosford Park\n",
      "12                          MOVIETITLES:In the Bedroom\n",
      "13   MOVIETITLES:The Lord of the Rings: The Fellows...\n",
      "14                           MOVIETITLES:Moulin Rouge!\n",
      "15                                 MOVIETITLES:Chicago\n",
      "16                       MOVIETITLES:Gangs of New York\n",
      "17                               MOVIETITLES:The Hours\n",
      "18   MOVIETITLES:The Lord of the Rings: The Two Towers\n",
      "19                             MOVIETITLES:The Pianist\n",
      "20   MOVIETITLES:The Lord of the Rings: The Return ...\n",
      "21                     MOVIETITLES:Lost in Translation\n",
      "22   MOVIETITLES:Master and Commander: The Far Side...\n",
      "23                            MOVIETITLES:Mystic River\n",
      "24                              MOVIETITLES:Seabiscuit\n",
      "25                     MOVIETITLES:Million Dollar Baby\n",
      "26                             MOVIETITLES:The Aviator\n",
      "27                       MOVIETITLES:Finding Neverland\n",
      "28                                     MOVIETITLES:Ray\n",
      "29                                MOVIETITLES:Sideways\n",
      "..                                                 ...\n",
      "75                                    MOVIETITLES:Hugo\n",
      "76                       MOVIETITLES:Midnight in Paris\n",
      "77                               MOVIETITLES:Moneyball\n",
      "78                               MOVIETITLES:War Horse\n",
      "79                                    MOVIETITLES:Argo\n",
      "80                                   MOVIETITLES:Amour\n",
      "81             MOVIETITLES:Beasts of the Southern Wild\n",
      "82                        MOVIETITLES:Django Unchained\n",
      "83                          MOVIETITLES:Les Misérables\n",
      "84                              MOVIETITLES:Life of Pi\n",
      "85                                 MOVIETITLES:Lincoln\n",
      "86                 MOVIETITLES:Silver Linings Playbook\n",
      "87                        MOVIETITLES:Zero Dark Thirty\n",
      "88                        MOVIETITLES:12 Years a Slave\n",
      "89                 MOVIETITLES:The Wolf of Wall Street\n",
      "90                         MOVIETITLES:American Hustle\n",
      "91                                MOVIETITLES:Nebraska\n",
      "92                        MOVIETITLES:Captain Phillips\n",
      "93                               MOVIETITLES:Philomena\n",
      "94                      MOVIETITLES:Dallas Buyers Club\n",
      "95                                 MOVIETITLES:Gravity\n",
      "96                                     MOVIETITLES:Her\n",
      "97   MOVIETITLES:Birdman or (The Unexpected Virtue ...\n",
      "98                         MOVIETITLES:American Sniper\n",
      "99                                 MOVIETITLES:Boyhood\n",
      "100                     MOVIETITLES:The Imitation Game\n",
      "101               MOVIETITLES:The Grand Budapest Hotel\n",
      "102                                  MOVIETITLES:Selma\n",
      "103               MOVIETITLES:The Theory of Everything\n",
      "104                               MOVIETITLES:Whiplash\n",
      "\n",
      "[105 rows x 1 columns]\n"
     ]
    }
   ],
   "source": [
    "print movienames; movienames.to_excel('movienames.xlsx')"
   ]
  },
  {
   "cell_type": "code",
   "execution_count": null,
   "metadata": {
    "collapsed": true
   },
   "outputs": [],
   "source": []
  }
 ],
 "metadata": {
  "kernelspec": {
   "display_name": "Python 2",
   "language": "python",
   "name": "python2"
  },
  "language_info": {
   "codemirror_mode": {
    "name": "ipython",
    "version": 2
   },
   "file_extension": ".py",
   "mimetype": "text/x-python",
   "name": "python",
   "nbconvert_exporter": "python",
   "pygments_lexer": "ipython2",
   "version": "2.7.11"
  }
 },
 "nbformat": 4,
 "nbformat_minor": 0
}
