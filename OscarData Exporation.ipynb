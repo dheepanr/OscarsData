{
 "cells": [
  {
   "cell_type": "markdown",
   "metadata": {},
   "source": [
    "# Scraped Ocars Data"
   ]
  },
  {
   "cell_type": "code",
   "execution_count": 1,
   "metadata": {
    "collapsed": true
   },
   "outputs": [],
   "source": [
    "import pandas as pd\n",
    "import requests as rq\n",
    "\n",
    "OscarsData = pd.read_excel('dropboxoscars.xlsx')"
   ]
  },
  {
   "cell_type": "code",
   "execution_count": 5,
   "metadata": {
    "collapsed": false
   },
   "outputs": [
    {
     "name": "stdout",
     "output_type": "stream",
     "text": [
      "   index  year       movietitle releasedate  boxoffice    director  \\\n",
      "0      0  2000  American Beauty  1999-10-01  130058047  Sam Mendes   \n",
      "1      1  2000  American Beauty  1999-10-01  130058047  Sam Mendes   \n",
      "2      2  2000  American Beauty  1999-10-01  130058047  Sam Mendes   \n",
      "3      3  2000  American Beauty  1999-10-01  130058047  Sam Mendes   \n",
      "4      4  2000  American Beauty  1999-10-01  130058047  Sam Mendes   \n",
      "5      5  2000  American Beauty  1999-10-01  130058047  Sam Mendes   \n",
      "6      6  2000  American Beauty  1999-10-01  130058047  Sam Mendes   \n",
      "7      7  2000  American Beauty  1999-10-01  130058047  Sam Mendes   \n",
      "8      8  2000  American Beauty  1999-10-01  130058047  Sam Mendes   \n",
      "9      9  2000  American Beauty  1999-10-01  130058047  Sam Mendes   \n",
      "\n",
      "   directorage directorgender  winner  reviewagg     ...        nps  \\\n",
      "0           35           male  winner        8.4     ...       42.3   \n",
      "1           35           male  winner        8.4     ...       42.3   \n",
      "2           35           male  winner        8.4     ...       42.3   \n",
      "3           35           male  winner        8.4     ...       42.3   \n",
      "4           35           male  winner        8.4     ...       42.3   \n",
      "5           35           male  winner        8.4     ...       42.3   \n",
      "6           35           male  winner        8.4     ...       42.3   \n",
      "7           35           male  winner        8.4     ...       42.3   \n",
      "8           35           male  winner        8.4     ...       42.3   \n",
      "9           35           male  winner        8.4     ...       42.3   \n",
      "\n",
      "   releasemonth  releaseyear  malepercent  femalepercent  under18percent  \\\n",
      "0            10         1999    79.008754      20.991246        0.707269   \n",
      "1            10         1999    79.008754      20.991246        0.707269   \n",
      "2            10         1999    79.008754      20.991246        0.707269   \n",
      "3            10         1999    79.008754      20.991246        0.707269   \n",
      "4            10         1999    79.008754      20.991246        0.707269   \n",
      "5            10         1999    79.008754      20.991246        0.707269   \n",
      "6            10         1999    79.008754      20.991246        0.707269   \n",
      "7            10         1999    79.008754      20.991246        0.707269   \n",
      "8            10         1999    79.008754      20.991246        0.707269   \n",
      "9            10         1999    79.008754      20.991246        0.707269   \n",
      "\n",
      "   thirtyto44percent  over44percent  source  criticdelta  \n",
      "0          51.954252      47.338479    IMDB           -5  \n",
      "1          51.954252      47.338479    IMDB           -5  \n",
      "2          51.954252      47.338479    IMDB           -5  \n",
      "3          51.954252      47.338479    IMDB           -5  \n",
      "4          51.954252      47.338479    IMDB           -5  \n",
      "5          51.954252      47.338479    IMDB           -5  \n",
      "6          51.954252      47.338479    IMDB           -5  \n",
      "7          51.954252      47.338479    IMDB           -5  \n",
      "8          51.954252      47.338479    IMDB           -5  \n",
      "9          51.954252      47.338479    IMDB           -5  \n",
      "\n",
      "[10 rows x 42 columns]\n"
     ]
    }
   ],
   "source": [
    "print OscarsData.head(10)"
   ]
  },
  {
   "cell_type": "markdown",
   "metadata": {},
   "source": [
    "Prepare movietititles for Clarabridge API calls"
   ]
  },
  {
   "cell_type": "code",
   "execution_count": 8,
   "metadata": {
    "collapsed": false
   },
   "outputs": [],
   "source": [
    "movienames = [\"MOVIETITLES:\"+movie for movie in OscarsData.movietitle.unique().tolist()]"
   ]
  },
  {
   "cell_type": "code",
   "execution_count": 10,
   "metadata": {
    "collapsed": false
   },
   "outputs": [
    {
     "data": {
      "text/plain": [
       "[u'MOVIETITLES:American Beauty',\n",
       " u'MOVIETITLES:The Cider House Rules',\n",
       " u'MOVIETITLES:The Green Mile',\n",
       " u'MOVIETITLES:The Insider',\n",
       " u'MOVIETITLES:The Sixth Sense']"
      ]
     },
     "execution_count": 10,
     "metadata": {},
     "output_type": "execute_result"
    }
   ],
   "source": [
    "movienames[0:5]"
   ]
  },
  {
   "cell_type": "code",
   "execution_count": 15,
   "metadata": {
    "collapsed": false
   },
   "outputs": [],
   "source": [
    "movienames = pd.DataFrame(movienames)"
   ]
  },
  {
   "cell_type": "code",
   "execution_count": 16,
   "metadata": {
    "collapsed": false
   },
   "outputs": [
    {
     "name": "stdout",
     "output_type": "stream",
     "text": [
      "                                                     0\n",
      "0                          MOVIETITLES:American Beauty\n",
      "1                    MOVIETITLES:The Cider House Rules\n",
      "2                           MOVIETITLES:The Green Mile\n",
      "3                              MOVIETITLES:The Insider\n",
      "4                          MOVIETITLES:The Sixth Sense\n",
      "5                                MOVIETITLES:Gladiator\n",
      "6                                 MOVIETITLES:Chocolat\n",
      "7           MOVIETITLES:Crouching Tiger, Hidden Dragon\n",
      "8                          MOVIETITLES:Erin Brockovich\n",
      "9                                  MOVIETITLES:Traffic\n",
      "10                        MOVIETITLES:A Beautiful Mind\n",
      "11                            MOVIETITLES:Gosford Park\n",
      "12                          MOVIETITLES:In the Bedroom\n",
      "13   MOVIETITLES:The Lord of the Rings: The Fellows...\n",
      "14                           MOVIETITLES:Moulin Rouge!\n",
      "15                                 MOVIETITLES:Chicago\n",
      "16                       MOVIETITLES:Gangs of New York\n",
      "17                               MOVIETITLES:The Hours\n",
      "18   MOVIETITLES:The Lord of the Rings: The Two Towers\n",
      "19                             MOVIETITLES:The Pianist\n",
      "20   MOVIETITLES:The Lord of the Rings: The Return ...\n",
      "21                     MOVIETITLES:Lost in Translation\n",
      "22   MOVIETITLES:Master and Commander: The Far Side...\n",
      "23                            MOVIETITLES:Mystic River\n",
      "24                              MOVIETITLES:Seabiscuit\n",
      "25                     MOVIETITLES:Million Dollar Baby\n",
      "26                             MOVIETITLES:The Aviator\n",
      "27                       MOVIETITLES:Finding Neverland\n",
      "28                                     MOVIETITLES:Ray\n",
      "29                                MOVIETITLES:Sideways\n",
      "..                                                 ...\n",
      "75                                    MOVIETITLES:Hugo\n",
      "76                       MOVIETITLES:Midnight in Paris\n",
      "77                               MOVIETITLES:Moneyball\n",
      "78                               MOVIETITLES:War Horse\n",
      "79                                    MOVIETITLES:Argo\n",
      "80                                   MOVIETITLES:Amour\n",
      "81             MOVIETITLES:Beasts of the Southern Wild\n",
      "82                        MOVIETITLES:Django Unchained\n",
      "83                          MOVIETITLES:Les Misérables\n",
      "84                              MOVIETITLES:Life of Pi\n",
      "85                                 MOVIETITLES:Lincoln\n",
      "86                 MOVIETITLES:Silver Linings Playbook\n",
      "87                        MOVIETITLES:Zero Dark Thirty\n",
      "88                        MOVIETITLES:12 Years a Slave\n",
      "89                 MOVIETITLES:The Wolf of Wall Street\n",
      "90                         MOVIETITLES:American Hustle\n",
      "91                                MOVIETITLES:Nebraska\n",
      "92                        MOVIETITLES:Captain Phillips\n",
      "93                               MOVIETITLES:Philomena\n",
      "94                      MOVIETITLES:Dallas Buyers Club\n",
      "95                                 MOVIETITLES:Gravity\n",
      "96                                     MOVIETITLES:Her\n",
      "97   MOVIETITLES:Birdman or (The Unexpected Virtue ...\n",
      "98                         MOVIETITLES:American Sniper\n",
      "99                                 MOVIETITLES:Boyhood\n",
      "100                     MOVIETITLES:The Imitation Game\n",
      "101               MOVIETITLES:The Grand Budapest Hotel\n",
      "102                                  MOVIETITLES:Selma\n",
      "103               MOVIETITLES:The Theory of Everything\n",
      "104                               MOVIETITLES:Whiplash\n",
      "\n",
      "[105 rows x 1 columns]\n"
     ]
    }
   ],
   "source": [
    "print movienames; movienames.to_excel('movienames.xlsx')"
   ]
  },
  {
   "cell_type": "code",
   "execution_count": 46,
   "metadata": {
    "collapsed": false
   },
   "outputs": [],
   "source": [
    "genredata = pd.read_excel('/Users/dheepan.ramanan/Documents/Oscars Spreadsheets/CBData/oscarsCBdata.xls', sheetname='genrenoms')"
   ]
  },
  {
   "cell_type": "code",
   "execution_count": 58,
   "metadata": {
    "collapsed": false
   },
   "outputs": [
    {
     "data": {
      "text/html": [
       "<div>\n",
       "<table border=\"1\" class=\"dataframe\">\n",
       "  <thead>\n",
       "    <tr style=\"text-align: right;\">\n",
       "      <th></th>\n",
       "      <th>0</th>\n",
       "      <th>1</th>\n",
       "      <th>2</th>\n",
       "      <th>3</th>\n",
       "      <th>4</th>\n",
       "      <th>5</th>\n",
       "      <th>6</th>\n",
       "      <th>7</th>\n",
       "      <th>8</th>\n",
       "      <th>9</th>\n",
       "      <th>10</th>\n",
       "      <th>11</th>\n",
       "      <th>12</th>\n",
       "      <th>13</th>\n",
       "      <th>14</th>\n",
       "      <th>15</th>\n",
       "      <th>16</th>\n",
       "      <th>17</th>\n",
       "      <th>18</th>\n",
       "    </tr>\n",
       "  </thead>\n",
       "  <tbody>\n",
       "    <tr>\n",
       "      <th>Word</th>\n",
       "      <td>DRAMA</td>\n",
       "      <td>BIOGRAPHY</td>\n",
       "      <td>ROMANCE</td>\n",
       "      <td>THRILLER</td>\n",
       "      <td>COMEDY</td>\n",
       "      <td>ADVENTURE</td>\n",
       "      <td>HISTORY</td>\n",
       "      <td>CRIME</td>\n",
       "      <td>FANTASY</td>\n",
       "      <td>WAR</td>\n",
       "      <td>MYSTERY</td>\n",
       "      <td>ACTION</td>\n",
       "      <td>SCI-FI</td>\n",
       "      <td>SPORT</td>\n",
       "      <td>FAMILY</td>\n",
       "      <td>MUSICAL</td>\n",
       "      <td>ANIMATION</td>\n",
       "      <td>MUSIC</td>\n",
       "      <td>WESTERN</td>\n",
       "    </tr>\n",
       "    <tr>\n",
       "      <th>Volume</th>\n",
       "      <td>96</td>\n",
       "      <td>27</td>\n",
       "      <td>20</td>\n",
       "      <td>18</td>\n",
       "      <td>16</td>\n",
       "      <td>15</td>\n",
       "      <td>14</td>\n",
       "      <td>12</td>\n",
       "      <td>11</td>\n",
       "      <td>10</td>\n",
       "      <td>9</td>\n",
       "      <td>7</td>\n",
       "      <td>5</td>\n",
       "      <td>5</td>\n",
       "      <td>4</td>\n",
       "      <td>3</td>\n",
       "      <td>2</td>\n",
       "      <td>2</td>\n",
       "      <td>2</td>\n",
       "    </tr>\n",
       "    <tr>\n",
       "      <th>Volume %</th>\n",
       "      <td>91.43</td>\n",
       "      <td>25.71</td>\n",
       "      <td>19.05</td>\n",
       "      <td>17.14</td>\n",
       "      <td>15.24</td>\n",
       "      <td>14.29</td>\n",
       "      <td>13.33</td>\n",
       "      <td>11.43</td>\n",
       "      <td>10.48</td>\n",
       "      <td>9.52</td>\n",
       "      <td>8.57</td>\n",
       "      <td>6.67</td>\n",
       "      <td>4.76</td>\n",
       "      <td>4.76</td>\n",
       "      <td>3.81</td>\n",
       "      <td>2.86</td>\n",
       "      <td>1.9</td>\n",
       "      <td>1.9</td>\n",
       "      <td>1.9</td>\n",
       "    </tr>\n",
       "    <tr>\n",
       "      <th>criticscore</th>\n",
       "      <td>82.11</td>\n",
       "      <td>84.22</td>\n",
       "      <td>69.95</td>\n",
       "      <td>88.67</td>\n",
       "      <td>85.69</td>\n",
       "      <td>88.93</td>\n",
       "      <td>82.21</td>\n",
       "      <td>87.25</td>\n",
       "      <td>87.73</td>\n",
       "      <td>87.1</td>\n",
       "      <td>81.78</td>\n",
       "      <td>70.14</td>\n",
       "      <td>71</td>\n",
       "      <td>83.6</td>\n",
       "      <td>93.5</td>\n",
       "      <td>81</td>\n",
       "      <td>98.5</td>\n",
       "      <td>87.5</td>\n",
       "      <td>92</td>\n",
       "    </tr>\n",
       "    <tr>\n",
       "      <th>audiencescore</th>\n",
       "      <td>81.03</td>\n",
       "      <td>82.59</td>\n",
       "      <td>76.32</td>\n",
       "      <td>84.94</td>\n",
       "      <td>77.19</td>\n",
       "      <td>84.4</td>\n",
       "      <td>78.64</td>\n",
       "      <td>83.25</td>\n",
       "      <td>83.91</td>\n",
       "      <td>84.3</td>\n",
       "      <td>81</td>\n",
       "      <td>86</td>\n",
       "      <td>71.4</td>\n",
       "      <td>85.2</td>\n",
       "      <td>86</td>\n",
       "      <td>86</td>\n",
       "      <td>89.5</td>\n",
       "      <td>90.5</td>\n",
       "      <td>88</td>\n",
       "    </tr>\n",
       "    <tr>\n",
       "      <th>boxoffice</th>\n",
       "      <td>7.89858e+07</td>\n",
       "      <td>9.32079e+07</td>\n",
       "      <td>7.59373e+07</td>\n",
       "      <td>1.29305e+08</td>\n",
       "      <td>1.01559e+08</td>\n",
       "      <td>1.67835e+08</td>\n",
       "      <td>8.72129e+07</td>\n",
       "      <td>9.54481e+07</td>\n",
       "      <td>1.97393e+08</td>\n",
       "      <td>1.03068e+08</td>\n",
       "      <td>1.10248e+08</td>\n",
       "      <td>2.9014e+08</td>\n",
       "      <td>2.93672e+08</td>\n",
       "      <td>1.05998e+08</td>\n",
       "      <td>1.8016e+08</td>\n",
       "      <td>1.25615e+08</td>\n",
       "      <td>4.14984e+08</td>\n",
       "      <td>1.42116e+07</td>\n",
       "      <td>1.66918e+08</td>\n",
       "    </tr>\n",
       "  </tbody>\n",
       "</table>\n",
       "</div>"
      ],
      "text/plain": [
       "                        0            1            2            3   \\\n",
       "Word                 DRAMA    BIOGRAPHY      ROMANCE     THRILLER   \n",
       "Volume                  96           27           20           18   \n",
       "Volume %             91.43        25.71        19.05        17.14   \n",
       "criticscore          82.11        84.22        69.95        88.67   \n",
       "audiencescore        81.03        82.59        76.32        84.94   \n",
       "boxoffice      7.89858e+07  9.32079e+07  7.59373e+07  1.29305e+08   \n",
       "\n",
       "                        4            5            6            7   \\\n",
       "Word                COMEDY    ADVENTURE      HISTORY        CRIME   \n",
       "Volume                  16           15           14           12   \n",
       "Volume %             15.24        14.29        13.33        11.43   \n",
       "criticscore          85.69        88.93        82.21        87.25   \n",
       "audiencescore        77.19         84.4        78.64        83.25   \n",
       "boxoffice      1.01559e+08  1.67835e+08  8.72129e+07  9.54481e+07   \n",
       "\n",
       "                        8            9            10          11           12  \\\n",
       "Word               FANTASY          WAR      MYSTERY      ACTION       SCI-FI   \n",
       "Volume                  11           10            9           7            5   \n",
       "Volume %             10.48         9.52         8.57        6.67         4.76   \n",
       "criticscore          87.73         87.1        81.78       70.14           71   \n",
       "audiencescore        83.91         84.3           81          86         71.4   \n",
       "boxoffice      1.97393e+08  1.03068e+08  1.10248e+08  2.9014e+08  2.93672e+08   \n",
       "\n",
       "                        13          14           15           16           17  \\\n",
       "Word                 SPORT      FAMILY      MUSICAL    ANIMATION        MUSIC   \n",
       "Volume                   5           4            3            2            2   \n",
       "Volume %              4.76        3.81         2.86          1.9          1.9   \n",
       "criticscore           83.6        93.5           81         98.5         87.5   \n",
       "audiencescore         85.2          86           86         89.5         90.5   \n",
       "boxoffice      1.05998e+08  1.8016e+08  1.25615e+08  4.14984e+08  1.42116e+07   \n",
       "\n",
       "                        18  \n",
       "Word               WESTERN  \n",
       "Volume                   2  \n",
       "Volume %               1.9  \n",
       "criticscore             92  \n",
       "audiencescore           88  \n",
       "boxoffice      1.66918e+08  "
      ]
     },
     "execution_count": 58,
     "metadata": {},
     "output_type": "execute_result"
    }
   ],
   "source": [
    "genredata.T"
   ]
  },
  {
   "cell_type": "code",
   "execution_count": 61,
   "metadata": {
    "collapsed": false
   },
   "outputs": [
    {
     "data": {
      "text/plain": [
       "'{\"Word\":{\"0\":\"DRAMA\",\"1\":\"BIOGRAPHY\",\"2\":\"ROMANCE\",\"3\":\"THRILLER\",\"4\":\"COMEDY\",\"5\":\"ADVENTURE\",\"6\":\"HISTORY\",\"7\":\"CRIME\",\"8\":\"FANTASY\",\"9\":\"WAR\",\"10\":\"MYSTERY\",\"11\":\"ACTION\",\"12\":\"SCI-FI\",\"13\":\"SPORT\",\"14\":\"FAMILY\",\"15\":\"MUSICAL\",\"16\":\"ANIMATION\",\"17\":\"MUSIC\",\"18\":\"WESTERN\"},\"Volume\":{\"0\":96,\"1\":27,\"2\":20,\"3\":18,\"4\":16,\"5\":15,\"6\":14,\"7\":12,\"8\":11,\"9\":10,\"10\":9,\"11\":7,\"12\":5,\"13\":5,\"14\":4,\"15\":3,\"16\":2,\"17\":2,\"18\":2},\"Volume %\":{\"0\":91.43,\"1\":25.71,\"2\":19.05,\"3\":17.14,\"4\":15.24,\"5\":14.29,\"6\":13.33,\"7\":11.43,\"8\":10.48,\"9\":9.52,\"10\":8.57,\"11\":6.67,\"12\":4.76,\"13\":4.76,\"14\":3.81,\"15\":2.86,\"16\":1.9,\"17\":1.9,\"18\":1.9},\"criticscore\":{\"0\":82.11,\"1\":84.22,\"2\":69.95,\"3\":88.67,\"4\":85.69,\"5\":88.93,\"6\":82.21,\"7\":87.25,\"8\":87.73,\"9\":87.1,\"10\":81.78,\"11\":70.14,\"12\":71.0,\"13\":83.6,\"14\":93.5,\"15\":81.0,\"16\":98.5,\"17\":87.5,\"18\":92.0},\"audiencescore\":{\"0\":81.03,\"1\":82.59,\"2\":76.32,\"3\":84.94,\"4\":77.19,\"5\":84.4,\"6\":78.64,\"7\":83.25,\"8\":83.91,\"9\":84.3,\"10\":81.0,\"11\":86.0,\"12\":71.4,\"13\":85.2,\"14\":86.0,\"15\":86.0,\"16\":89.5,\"17\":90.5,\"18\":88.0},\"boxoffice\":{\"0\":78985793.1800000072,\"1\":93207943.2600000054,\"2\":75937266.1700000018,\"3\":129304564.700000003,\"4\":101559421.700000003,\"5\":167835204.3000000119,\"6\":87212901.4300000072,\"7\":95448114.450000003,\"8\":197393369.599999994,\"9\":103067725.400000006,\"10\":110248488.0,\"11\":290139780.0,\"12\":293672389.8000000119,\"13\":105997978.0,\"14\":180160399.0,\"15\":125615444.700000003,\"16\":414984497.0,\"17\":14211550.0,\"18\":166917997.5}}'"
      ]
     },
     "execution_count": 61,
     "metadata": {},
     "output_type": "execute_result"
    }
   ],
   "source": [
    "genredata.to_json(orient='columns')"
   ]
  },
  {
   "cell_type": "code",
   "execution_count": null,
   "metadata": {
    "collapsed": true
   },
   "outputs": [],
   "source": []
  }
 ],
 "metadata": {
  "kernelspec": {
   "display_name": "Python 2",
   "language": "python",
   "name": "python2"
  },
  "language_info": {
   "codemirror_mode": {
    "name": "ipython",
    "version": 2
   },
   "file_extension": ".py",
   "mimetype": "text/x-python",
   "name": "python",
   "nbconvert_exporter": "python",
   "pygments_lexer": "ipython2",
   "version": "2.7.11"
  }
 },
 "nbformat": 4,
 "nbformat_minor": 0
}
