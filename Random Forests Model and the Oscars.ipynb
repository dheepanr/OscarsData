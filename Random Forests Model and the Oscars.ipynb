{
 "cells": [
  {
   "cell_type": "markdown",
   "metadata": {
    "collapsed": true
   },
   "source": [
    "# Using Random Forests to Predict the Oscars"
   ]
  },
  {
   "cell_type": "code",
   "execution_count": 96,
   "metadata": {
    "collapsed": false
   },
   "outputs": [],
   "source": [
    "from __future__ import division\n",
    "from sklearn.ensemble import RandomForestClassifier\n",
    "from sklearn import metrics\n",
    "import matplotlib.pyplot as plt\n",
    "import seaborn as sns\n",
    "import pandas as pd\n",
    "from IPython.display import YouTubeVideo"
   ]
  },
  {
   "cell_type": "code",
   "execution_count": 2,
   "metadata": {
    "collapsed": false
   },
   "outputs": [
    {
     "data": {
      "text/html": [
       "<div>\n",
       "<table border=\"1\" class=\"dataframe\">\n",
       "  <thead>\n",
       "    <tr style=\"text-align: right;\">\n",
       "      <th></th>\n",
       "      <th>movietitle</th>\n",
       "      <th>index</th>\n",
       "      <th>year</th>\n",
       "      <th>boxoffice</th>\n",
       "      <th>directorage</th>\n",
       "      <th>reviewagg</th>\n",
       "      <th>criticscore</th>\n",
       "      <th>audiencescore</th>\n",
       "      <th>totalfloat</th>\n",
       "      <th>maleper</th>\n",
       "      <th>...</th>\n",
       "      <th>Thriller_sentiment</th>\n",
       "      <th>Trailer_percentOfVolume</th>\n",
       "      <th>Trailer_sent_count</th>\n",
       "      <th>Trailer_sentiment</th>\n",
       "      <th>War Movie_percentOfVolume</th>\n",
       "      <th>War Movie_sent_count</th>\n",
       "      <th>War Movie_sentiment</th>\n",
       "      <th>Word of Mouth_percentOfVolume</th>\n",
       "      <th>Word of Mouth_sent_count</th>\n",
       "      <th>Word of Mouth_sentiment</th>\n",
       "    </tr>\n",
       "  </thead>\n",
       "  <tbody>\n",
       "    <tr>\n",
       "      <th>0</th>\n",
       "      <td>12 Years a Slave</td>\n",
       "      <td>474.5</td>\n",
       "      <td>2014</td>\n",
       "      <td>56667870</td>\n",
       "      <td>45</td>\n",
       "      <td>8.1</td>\n",
       "      <td>96</td>\n",
       "      <td>90</td>\n",
       "      <td>388359</td>\n",
       "      <td>256841</td>\n",
       "      <td>...</td>\n",
       "      <td>0.00</td>\n",
       "      <td>0.74</td>\n",
       "      <td>7</td>\n",
       "      <td>-0.54</td>\n",
       "      <td>4.63</td>\n",
       "      <td>50</td>\n",
       "      <td>-0.75</td>\n",
       "      <td>0.74</td>\n",
       "      <td>7</td>\n",
       "      <td>-1.68</td>\n",
       "    </tr>\n",
       "    <tr>\n",
       "      <th>1</th>\n",
       "      <td>127 Hours</td>\n",
       "      <td>1185.0</td>\n",
       "      <td>2011</td>\n",
       "      <td>18335230</td>\n",
       "      <td>55</td>\n",
       "      <td>7.6</td>\n",
       "      <td>93</td>\n",
       "      <td>85</td>\n",
       "      <td>262273</td>\n",
       "      <td>193147</td>\n",
       "      <td>...</td>\n",
       "      <td>0.50</td>\n",
       "      <td>2.78</td>\n",
       "      <td>19</td>\n",
       "      <td>0.91</td>\n",
       "      <td>0.00</td>\n",
       "      <td>0</td>\n",
       "      <td>0.00</td>\n",
       "      <td>1.54</td>\n",
       "      <td>12</td>\n",
       "      <td>-0.04</td>\n",
       "    </tr>\n",
       "    <tr>\n",
       "      <th>2</th>\n",
       "      <td>A Beautiful Mind</td>\n",
       "      <td>737.0</td>\n",
       "      <td>2002</td>\n",
       "      <td>170708996</td>\n",
       "      <td>48</td>\n",
       "      <td>8.2</td>\n",
       "      <td>75</td>\n",
       "      <td>93</td>\n",
       "      <td>557026</td>\n",
       "      <td>367628</td>\n",
       "      <td>...</td>\n",
       "      <td>0.24</td>\n",
       "      <td>1.29</td>\n",
       "      <td>21</td>\n",
       "      <td>-0.45</td>\n",
       "      <td>0.27</td>\n",
       "      <td>5</td>\n",
       "      <td>0.75</td>\n",
       "      <td>0.47</td>\n",
       "      <td>7</td>\n",
       "      <td>0.36</td>\n",
       "    </tr>\n",
       "    <tr>\n",
       "      <th>3</th>\n",
       "      <td>A Serious Man</td>\n",
       "      <td>1468.5</td>\n",
       "      <td>2010</td>\n",
       "      <td>9042780</td>\n",
       "      <td>53</td>\n",
       "      <td>7.0</td>\n",
       "      <td>89</td>\n",
       "      <td>67</td>\n",
       "      <td>95831</td>\n",
       "      <td>74163</td>\n",
       "      <td>...</td>\n",
       "      <td>-1.75</td>\n",
       "      <td>1.35</td>\n",
       "      <td>7</td>\n",
       "      <td>0.82</td>\n",
       "      <td>0.00</td>\n",
       "      <td>0</td>\n",
       "      <td>0.00</td>\n",
       "      <td>0.45</td>\n",
       "      <td>2</td>\n",
       "      <td>3.13</td>\n",
       "    </tr>\n",
       "    <tr>\n",
       "      <th>4</th>\n",
       "      <td>American Beauty</td>\n",
       "      <td>1651.5</td>\n",
       "      <td>2000</td>\n",
       "      <td>130058047</td>\n",
       "      <td>35</td>\n",
       "      <td>8.4</td>\n",
       "      <td>88</td>\n",
       "      <td>93</td>\n",
       "      <td>766470</td>\n",
       "      <td>496476</td>\n",
       "      <td>...</td>\n",
       "      <td>0.27</td>\n",
       "      <td>1.15</td>\n",
       "      <td>43</td>\n",
       "      <td>0.10</td>\n",
       "      <td>0.27</td>\n",
       "      <td>9</td>\n",
       "      <td>0.94</td>\n",
       "      <td>0.79</td>\n",
       "      <td>27</td>\n",
       "      <td>0.12</td>\n",
       "    </tr>\n",
       "  </tbody>\n",
       "</table>\n",
       "<p>5 rows × 184 columns</p>\n",
       "</div>"
      ],
      "text/plain": [
       "         movietitle   index  year  boxoffice  directorage  reviewagg  \\\n",
       "0  12 Years a Slave   474.5  2014   56667870           45        8.1   \n",
       "1         127 Hours  1185.0  2011   18335230           55        7.6   \n",
       "2  A Beautiful Mind   737.0  2002  170708996           48        8.2   \n",
       "3     A Serious Man  1468.5  2010    9042780           53        7.0   \n",
       "4   American Beauty  1651.5  2000  130058047           35        8.4   \n",
       "\n",
       "   criticscore  audiencescore  totalfloat  maleper           ...             \\\n",
       "0           96             90      388359   256841           ...              \n",
       "1           93             85      262273   193147           ...              \n",
       "2           75             93      557026   367628           ...              \n",
       "3           89             67       95831    74163           ...              \n",
       "4           88             93      766470   496476           ...              \n",
       "\n",
       "   Thriller_sentiment  Trailer_percentOfVolume  Trailer_sent_count  \\\n",
       "0                0.00                     0.74                   7   \n",
       "1                0.50                     2.78                  19   \n",
       "2                0.24                     1.29                  21   \n",
       "3               -1.75                     1.35                   7   \n",
       "4                0.27                     1.15                  43   \n",
       "\n",
       "   Trailer_sentiment  War Movie_percentOfVolume  War Movie_sent_count  \\\n",
       "0              -0.54                       4.63                    50   \n",
       "1               0.91                       0.00                     0   \n",
       "2              -0.45                       0.27                     5   \n",
       "3               0.82                       0.00                     0   \n",
       "4               0.10                       0.27                     9   \n",
       "\n",
       "   War Movie_sentiment  Word of Mouth_percentOfVolume  \\\n",
       "0                -0.75                           0.74   \n",
       "1                 0.00                           1.54   \n",
       "2                 0.75                           0.47   \n",
       "3                 0.00                           0.45   \n",
       "4                 0.94                           0.79   \n",
       "\n",
       "   Word of Mouth_sent_count  Word of Mouth_sentiment  \n",
       "0                         7                    -1.68  \n",
       "1                        12                    -0.04  \n",
       "2                         7                     0.36  \n",
       "3                         2                     3.13  \n",
       "4                        27                     0.12  \n",
       "\n",
       "[5 rows x 184 columns]"
      ]
     },
     "execution_count": 2,
     "metadata": {},
     "output_type": "execute_result"
    }
   ],
   "source": [
    "hist_oscars = pd.read_excel(\"DataFiles/MLoscars.xlsx\")\n",
    "hist_oscars.head(5)"
   ]
  },
  {
   "cell_type": "markdown",
   "metadata": {},
   "source": [
    "* From scraping IMDB I gathered 34 different structured data points and reviews.\n",
    "* I then appeneded the category, sentiment, and sentence count for 50 themes from clarabridge. "
   ]
  },
  {
   "cell_type": "code",
   "execution_count": 3,
   "metadata": {
    "collapsed": false
   },
   "outputs": [],
   "source": [
    "X = hist_oscars.drop([\"index\",\"year\",\"releaseyear\",\"totalfloat\",\"reviewagg\",\"status\"],1).set_index(\"movietitle\")\n",
    "#note year, release year were stored as integers. Whoops. Totalfloat, reviewagg are the numbers of ratings and reviews.\n",
    "#Any correlation with these variables would not be useful for future data\n",
    "y = hist_oscars.status"
   ]
  },
  {
   "cell_type": "code",
   "execution_count": 4,
   "metadata": {
    "collapsed": false
   },
   "outputs": [],
   "source": [
    "percentile = range(5,150,1) #up to 150 features\n",
    "per_oob_error = [] #out of bag error\n",
    "features_scores = {}\n",
    "scores = []\n",
    "\n",
    "for p in percentile:\n",
    "\tclf = RandomForestClassifier(n_estimators=125, max_features =p/len(X.columns), oob_score= True, n_jobs=-1)\n",
    "\tclf.fit(X,y)\n",
    "\tprediction = clf.predict(X)\n",
    "\tscore = clf.score(X,y)\n",
    "\tscores.append(score)\n",
    "\tfeatures = zip(X.columns.values.tolist(), clf.feature_importances_)\n",
    "\tconfusion = metrics.confusion_matrix(y, prediction)\n",
    "\tper_oob_error.append(1-clf.oob_score_)\n",
    "\tfeatures_scores[p] = features"
   ]
  },
  {
   "cell_type": "code",
   "execution_count": 35,
   "metadata": {
    "collapsed": false
   },
   "outputs": [
    {
     "name": "stdout",
     "output_type": "stream",
     "text": [
      "[[89  0]\n",
      " [ 0 16]]\n",
      "1.0\n"
     ]
    }
   ],
   "source": [
    "print confusion\n",
    "print score"
   ]
  },
  {
   "cell_type": "markdown",
   "metadata": {},
   "source": [
    "Our forest is 100% correct in scoring\n",
    "\n",
    "Let's examine the error rate "
   ]
  },
  {
   "cell_type": "markdown",
   "metadata": {},
   "source": [
    "## Plotting the Out of Bag Error Rate"
   ]
  },
  {
   "cell_type": "code",
   "execution_count": 6,
   "metadata": {
    "collapsed": false
   },
   "outputs": [
    {
     "data": {
      "image/png": "[encoded data removed]",
      "text/plain": [
       "<matplotlib.figure.Figure at 0x10aa53fd0>"
      ]
     },
     "metadata": {},
     "output_type": "display_data"
    }
   ],
   "source": [
    "%matplotlib inline\n",
    "sns.set_style(\"darkgrid\")\n",
    "plt.plot( percentile, per_oob_error)\n",
    "plt.xlabel(\"Number of Features\")\n",
    "plt.ylabel(\"Out of Bag Error Rate %\")\n",
    "plt.show()"
   ]
  },
  {
   "cell_type": "code",
   "execution_count": 8,
   "metadata": {
    "collapsed": false
   },
   "outputs": [],
   "source": [
    "#sort by num features v oob\n",
    "oob = pd.DataFrame(per_oob_error,percentile, columns=[\"oob\"])"
   ]
  },
  {
   "cell_type": "code",
   "execution_count": 95,
   "metadata": {
    "collapsed": false
   },
   "outputs": [
    {
     "data": {
      "text/html": [
       "<div>\n",
       "<table border=\"1\" class=\"dataframe\">\n",
       "  <thead>\n",
       "    <tr style=\"text-align: right;\">\n",
       "      <th></th>\n",
       "      <th>75</th>\n",
       "      <th>102</th>\n",
       "      <th>105</th>\n",
       "      <th>109</th>\n",
       "      <th>115</th>\n",
       "      <th>116</th>\n",
       "      <th>120</th>\n",
       "      <th>122</th>\n",
       "      <th>125</th>\n",
       "      <th>130</th>\n",
       "      <th>...</th>\n",
       "      <th>132</th>\n",
       "      <th>135</th>\n",
       "      <th>136</th>\n",
       "      <th>137</th>\n",
       "      <th>138</th>\n",
       "      <th>142</th>\n",
       "      <th>144</th>\n",
       "      <th>146</th>\n",
       "      <th>148</th>\n",
       "      <th>149</th>\n",
       "    </tr>\n",
       "  </thead>\n",
       "  <tbody>\n",
       "    <tr>\n",
       "      <th>oob</th>\n",
       "      <td>0.057143</td>\n",
       "      <td>0.057143</td>\n",
       "      <td>0.057143</td>\n",
       "      <td>0.057143</td>\n",
       "      <td>0.057143</td>\n",
       "      <td>0.057143</td>\n",
       "      <td>0.057143</td>\n",
       "      <td>0.057143</td>\n",
       "      <td>0.057143</td>\n",
       "      <td>0.057143</td>\n",
       "      <td>...</td>\n",
       "      <td>0.057143</td>\n",
       "      <td>0.057143</td>\n",
       "      <td>0.057143</td>\n",
       "      <td>0.057143</td>\n",
       "      <td>0.057143</td>\n",
       "      <td>0.057143</td>\n",
       "      <td>0.057143</td>\n",
       "      <td>0.057143</td>\n",
       "      <td>0.057143</td>\n",
       "      <td>0.057143</td>\n",
       "    </tr>\n",
       "  </tbody>\n",
       "</table>\n",
       "<p>1 rows × 21 columns</p>\n",
       "</div>"
      ],
      "text/plain": [
       "          75        102       105       109       115       116       120  \\\n",
       "oob  0.057143  0.057143  0.057143  0.057143  0.057143  0.057143  0.057143   \n",
       "\n",
       "          122       125       130    ...          132       135       136  \\\n",
       "oob  0.057143  0.057143  0.057143    ...     0.057143  0.057143  0.057143   \n",
       "\n",
       "          137       138       142       144       146       148       149  \n",
       "oob  0.057143  0.057143  0.057143  0.057143  0.057143  0.057143  0.057143  \n",
       "\n",
       "[1 rows x 21 columns]"
      ]
     },
     "execution_count": 95,
     "metadata": {},
     "output_type": "execute_result"
    }
   ],
   "source": [
    "#high feature density, lowest oob\n",
    "oob[oob[\"oob\"] <.06].T"
   ]
  },
  {
   "cell_type": "code",
   "execution_count": 94,
   "metadata": {
    "collapsed": false
   },
   "outputs": [
    {
     "data": {
      "text/html": [
       "<div>\n",
       "<table border=\"1\" class=\"dataframe\">\n",
       "  <thead>\n",
       "    <tr style=\"text-align: right;\">\n",
       "      <th></th>\n",
       "      <th>30</th>\n",
       "      <th>33</th>\n",
       "      <th>36</th>\n",
       "      <th>37</th>\n",
       "      <th>40</th>\n",
       "      <th>41</th>\n",
       "      <th>42</th>\n",
       "      <th>43</th>\n",
       "      <th>46</th>\n",
       "      <th>48</th>\n",
       "    </tr>\n",
       "  </thead>\n",
       "  <tbody>\n",
       "    <tr>\n",
       "      <th>oob</th>\n",
       "      <td>0.066667</td>\n",
       "      <td>0.095238</td>\n",
       "      <td>0.095238</td>\n",
       "      <td>0.095238</td>\n",
       "      <td>0.095238</td>\n",
       "      <td>0.095238</td>\n",
       "      <td>0.095238</td>\n",
       "      <td>0.085714</td>\n",
       "      <td>0.07619</td>\n",
       "      <td>0.085714</td>\n",
       "    </tr>\n",
       "  </tbody>\n",
       "</table>\n",
       "</div>"
      ],
      "text/plain": [
       "           30        33        36        37        40        41        42  \\\n",
       "oob  0.066667  0.095238  0.095238  0.095238  0.095238  0.095238  0.095238   \n",
       "\n",
       "           43       46        48  \n",
       "oob  0.085714  0.07619  0.085714  "
      ]
     },
     "execution_count": 94,
     "metadata": {},
     "output_type": "execute_result"
    }
   ],
   "source": [
    "#closer to sqrt of number of features\n",
    "oob[(oob[\"oob\"] < .1)].head(10).T"
   ]
  },
  {
   "cell_type": "markdown",
   "metadata": {},
   "source": [
    "* 30 features seems optimal for balance of OOB v number of features\n",
    "* 46 features and 75 features will also be run\n",
    "* Sqrt of features ~14"
   ]
  },
  {
   "cell_type": "markdown",
   "metadata": {},
   "source": [
    "## Load new new nominees"
   ]
  },
  {
   "cell_type": "code",
   "execution_count": 49,
   "metadata": {
    "collapsed": false
   },
   "outputs": [],
   "source": [
    "oscars2016 = pd.read_excel('DataGathering/2016movies2.xlsx')\n",
    "oscars16themes = pd.read_pickle('DataFiles/oscars16.p')\n",
    "oscars2016grp = oscars2016.groupby(\"movietitle\").mean()\n",
    "\n",
    "PredictionOscars = oscars2016grp.join(oscars16themes).fillna(0).drop([\"year\",\"releaseyear\",\"totalfloat\",\"reviewagg\"],1)"
   ]
  },
  {
   "cell_type": "code",
   "execution_count": 50,
   "metadata": {
    "collapsed": false
   },
   "outputs": [
    {
     "data": {
      "text/html": [
       "<div>\n",
       "<table border=\"1\" class=\"dataframe\">\n",
       "  <thead>\n",
       "    <tr style=\"text-align: right;\">\n",
       "      <th></th>\n",
       "      <th>boxoffice</th>\n",
       "      <th>directorage</th>\n",
       "      <th>criticscore</th>\n",
       "      <th>audiencescore</th>\n",
       "      <th>maleper</th>\n",
       "      <th>femaleper</th>\n",
       "      <th>under18</th>\n",
       "      <th>thirtyto44</th>\n",
       "      <th>over44</th>\n",
       "      <th>ones</th>\n",
       "      <th>...</th>\n",
       "      <th>Trailer_sentiment</th>\n",
       "      <th>Violence_percentOfVolume</th>\n",
       "      <th>Violence_sent_count</th>\n",
       "      <th>Violence_sentiment</th>\n",
       "      <th>War Movie_percentOfVolume</th>\n",
       "      <th>War Movie_sent_count</th>\n",
       "      <th>War Movie_sentiment</th>\n",
       "      <th>Word of Mouth_percentOfVolume</th>\n",
       "      <th>Word of Mouth_sent_count</th>\n",
       "      <th>Word of Mouth_sentiment</th>\n",
       "    </tr>\n",
       "    <tr>\n",
       "      <th>movietitle</th>\n",
       "      <th></th>\n",
       "      <th></th>\n",
       "      <th></th>\n",
       "      <th></th>\n",
       "      <th></th>\n",
       "      <th></th>\n",
       "      <th></th>\n",
       "      <th></th>\n",
       "      <th></th>\n",
       "      <th></th>\n",
       "      <th></th>\n",
       "      <th></th>\n",
       "      <th></th>\n",
       "      <th></th>\n",
       "      <th></th>\n",
       "      <th></th>\n",
       "      <th></th>\n",
       "      <th></th>\n",
       "      <th></th>\n",
       "      <th></th>\n",
       "      <th></th>\n",
       "    </tr>\n",
       "  </thead>\n",
       "  <tbody>\n",
       "    <tr>\n",
       "      <th>Bridge of Spies</th>\n",
       "      <td>71884220</td>\n",
       "      <td>70</td>\n",
       "      <td>91</td>\n",
       "      <td>88</td>\n",
       "      <td>71268</td>\n",
       "      <td>10966</td>\n",
       "      <td>962</td>\n",
       "      <td>29170</td>\n",
       "      <td>7754</td>\n",
       "      <td>0.5</td>\n",
       "      <td>...</td>\n",
       "      <td>-0.13</td>\n",
       "      <td>0</td>\n",
       "      <td>0</td>\n",
       "      <td>0</td>\n",
       "      <td>4.98</td>\n",
       "      <td>16</td>\n",
       "      <td>-0.28</td>\n",
       "      <td>0.00</td>\n",
       "      <td>0</td>\n",
       "      <td>0.00</td>\n",
       "    </tr>\n",
       "    <tr>\n",
       "      <th>Brooklyn</th>\n",
       "      <td>30432320</td>\n",
       "      <td>46</td>\n",
       "      <td>98</td>\n",
       "      <td>90</td>\n",
       "      <td>12687</td>\n",
       "      <td>6621</td>\n",
       "      <td>278</td>\n",
       "      <td>5950</td>\n",
       "      <td>2699</td>\n",
       "      <td>1.1</td>\n",
       "      <td>...</td>\n",
       "      <td>0.00</td>\n",
       "      <td>0</td>\n",
       "      <td>0</td>\n",
       "      <td>0</td>\n",
       "      <td>0.00</td>\n",
       "      <td>0</td>\n",
       "      <td>0.00</td>\n",
       "      <td>0.00</td>\n",
       "      <td>0</td>\n",
       "      <td>0.00</td>\n",
       "    </tr>\n",
       "    <tr>\n",
       "      <th>Mad Max: Fury Road</th>\n",
       "      <td>153629485</td>\n",
       "      <td>71</td>\n",
       "      <td>97</td>\n",
       "      <td>86</td>\n",
       "      <td>308855</td>\n",
       "      <td>47696</td>\n",
       "      <td>5163</td>\n",
       "      <td>121382</td>\n",
       "      <td>21256</td>\n",
       "      <td>1.7</td>\n",
       "      <td>...</td>\n",
       "      <td>0.19</td>\n",
       "      <td>0</td>\n",
       "      <td>0</td>\n",
       "      <td>0</td>\n",
       "      <td>0.44</td>\n",
       "      <td>17</td>\n",
       "      <td>-0.26</td>\n",
       "      <td>0.85</td>\n",
       "      <td>35</td>\n",
       "      <td>-0.37</td>\n",
       "    </tr>\n",
       "    <tr>\n",
       "      <th>Room</th>\n",
       "      <td>13400000</td>\n",
       "      <td>50</td>\n",
       "      <td>96</td>\n",
       "      <td>94</td>\n",
       "      <td>20887</td>\n",
       "      <td>8435</td>\n",
       "      <td>480</td>\n",
       "      <td>8962</td>\n",
       "      <td>2456</td>\n",
       "      <td>0.8</td>\n",
       "      <td>...</td>\n",
       "      <td>0.56</td>\n",
       "      <td>0</td>\n",
       "      <td>0</td>\n",
       "      <td>0</td>\n",
       "      <td>0.34</td>\n",
       "      <td>1</td>\n",
       "      <td>0.00</td>\n",
       "      <td>1.03</td>\n",
       "      <td>3</td>\n",
       "      <td>0.83</td>\n",
       "    </tr>\n",
       "    <tr>\n",
       "      <th>Spotlight</th>\n",
       "      <td>34765827</td>\n",
       "      <td>50</td>\n",
       "      <td>96</td>\n",
       "      <td>95</td>\n",
       "      <td>30737</td>\n",
       "      <td>7776</td>\n",
       "      <td>483</td>\n",
       "      <td>12740</td>\n",
       "      <td>4094</td>\n",
       "      <td>0.9</td>\n",
       "      <td>...</td>\n",
       "      <td>0.55</td>\n",
       "      <td>0</td>\n",
       "      <td>0</td>\n",
       "      <td>0</td>\n",
       "      <td>0.00</td>\n",
       "      <td>0</td>\n",
       "      <td>0.00</td>\n",
       "      <td>0.37</td>\n",
       "      <td>1</td>\n",
       "      <td>0.00</td>\n",
       "    </tr>\n",
       "    <tr>\n",
       "      <th>The Big Short</th>\n",
       "      <td>60963697</td>\n",
       "      <td>48</td>\n",
       "      <td>88</td>\n",
       "      <td>89</td>\n",
       "      <td>46718</td>\n",
       "      <td>9126</td>\n",
       "      <td>675</td>\n",
       "      <td>18600</td>\n",
       "      <td>4967</td>\n",
       "      <td>0.8</td>\n",
       "      <td>...</td>\n",
       "      <td>0.05</td>\n",
       "      <td>0</td>\n",
       "      <td>0</td>\n",
       "      <td>0</td>\n",
       "      <td>0.31</td>\n",
       "      <td>1</td>\n",
       "      <td>2.00</td>\n",
       "      <td>0.00</td>\n",
       "      <td>0</td>\n",
       "      <td>0.00</td>\n",
       "    </tr>\n",
       "    <tr>\n",
       "      <th>The Martian</th>\n",
       "      <td>227938641</td>\n",
       "      <td>79</td>\n",
       "      <td>92</td>\n",
       "      <td>92</td>\n",
       "      <td>217607</td>\n",
       "      <td>40946</td>\n",
       "      <td>4359</td>\n",
       "      <td>87178</td>\n",
       "      <td>17734</td>\n",
       "      <td>0.6</td>\n",
       "      <td>...</td>\n",
       "      <td>-0.04</td>\n",
       "      <td>0</td>\n",
       "      <td>0</td>\n",
       "      <td>0</td>\n",
       "      <td>0.60</td>\n",
       "      <td>13</td>\n",
       "      <td>1.00</td>\n",
       "      <td>0.69</td>\n",
       "      <td>15</td>\n",
       "      <td>0.60</td>\n",
       "    </tr>\n",
       "    <tr>\n",
       "      <th>The Revenant</th>\n",
       "      <td>141677381</td>\n",
       "      <td>53</td>\n",
       "      <td>83</td>\n",
       "      <td>86</td>\n",
       "      <td>129341</td>\n",
       "      <td>23632</td>\n",
       "      <td>2547</td>\n",
       "      <td>47565</td>\n",
       "      <td>9606</td>\n",
       "      <td>0.9</td>\n",
       "      <td>...</td>\n",
       "      <td>0.11</td>\n",
       "      <td>0</td>\n",
       "      <td>0</td>\n",
       "      <td>0</td>\n",
       "      <td>0.63</td>\n",
       "      <td>9</td>\n",
       "      <td>0.11</td>\n",
       "      <td>0.36</td>\n",
       "      <td>4</td>\n",
       "      <td>0.75</td>\n",
       "    </tr>\n",
       "  </tbody>\n",
       "</table>\n",
       "<p>8 rows × 180 columns</p>\n",
       "</div>"
      ],
      "text/plain": [
       "                    boxoffice  directorage  criticscore  audiencescore  \\\n",
       "movietitle                                                               \n",
       "Bridge of Spies      71884220           70           91             88   \n",
       "Brooklyn             30432320           46           98             90   \n",
       "Mad Max: Fury Road  153629485           71           97             86   \n",
       "Room                 13400000           50           96             94   \n",
       "Spotlight            34765827           50           96             95   \n",
       "The Big Short        60963697           48           88             89   \n",
       "The Martian         227938641           79           92             92   \n",
       "The Revenant        141677381           53           83             86   \n",
       "\n",
       "                    maleper  femaleper  under18  thirtyto44  over44  ones  \\\n",
       "movietitle                                                                  \n",
       "Bridge of Spies       71268      10966      962       29170    7754   0.5   \n",
       "Brooklyn              12687       6621      278        5950    2699   1.1   \n",
       "Mad Max: Fury Road   308855      47696     5163      121382   21256   1.7   \n",
       "Room                  20887       8435      480        8962    2456   0.8   \n",
       "Spotlight             30737       7776      483       12740    4094   0.9   \n",
       "The Big Short         46718       9126      675       18600    4967   0.8   \n",
       "The Martian          217607      40946     4359       87178   17734   0.6   \n",
       "The Revenant         129341      23632     2547       47565    9606   0.9   \n",
       "\n",
       "                             ...             Trailer_sentiment  \\\n",
       "movietitle                   ...                                 \n",
       "Bridge of Spies              ...                         -0.13   \n",
       "Brooklyn                     ...                          0.00   \n",
       "Mad Max: Fury Road           ...                          0.19   \n",
       "Room                         ...                          0.56   \n",
       "Spotlight                    ...                          0.55   \n",
       "The Big Short                ...                          0.05   \n",
       "The Martian                  ...                         -0.04   \n",
       "The Revenant                 ...                          0.11   \n",
       "\n",
       "                    Violence_percentOfVolume  Violence_sent_count  \\\n",
       "movietitle                                                          \n",
       "Bridge of Spies                            0                    0   \n",
       "Brooklyn                                   0                    0   \n",
       "Mad Max: Fury Road                         0                    0   \n",
       "Room                                       0                    0   \n",
       "Spotlight                                  0                    0   \n",
       "The Big Short                              0                    0   \n",
       "The Martian                                0                    0   \n",
       "The Revenant                               0                    0   \n",
       "\n",
       "                    Violence_sentiment  War Movie_percentOfVolume  \\\n",
       "movietitle                                                          \n",
       "Bridge of Spies                      0                       4.98   \n",
       "Brooklyn                             0                       0.00   \n",
       "Mad Max: Fury Road                   0                       0.44   \n",
       "Room                                 0                       0.34   \n",
       "Spotlight                            0                       0.00   \n",
       "The Big Short                        0                       0.31   \n",
       "The Martian                          0                       0.60   \n",
       "The Revenant                         0                       0.63   \n",
       "\n",
       "                    War Movie_sent_count  War Movie_sentiment  \\\n",
       "movietitle                                                      \n",
       "Bridge of Spies                       16                -0.28   \n",
       "Brooklyn                               0                 0.00   \n",
       "Mad Max: Fury Road                    17                -0.26   \n",
       "Room                                   1                 0.00   \n",
       "Spotlight                              0                 0.00   \n",
       "The Big Short                          1                 2.00   \n",
       "The Martian                           13                 1.00   \n",
       "The Revenant                           9                 0.11   \n",
       "\n",
       "                    Word of Mouth_percentOfVolume  Word of Mouth_sent_count  \\\n",
       "movietitle                                                                    \n",
       "Bridge of Spies                              0.00                         0   \n",
       "Brooklyn                                     0.00                         0   \n",
       "Mad Max: Fury Road                           0.85                        35   \n",
       "Room                                         1.03                         3   \n",
       "Spotlight                                    0.37                         1   \n",
       "The Big Short                                0.00                         0   \n",
       "The Martian                                  0.69                        15   \n",
       "The Revenant                                 0.36                         4   \n",
       "\n",
       "                    Word of Mouth_sentiment  \n",
       "movietitle                                   \n",
       "Bridge of Spies                        0.00  \n",
       "Brooklyn                               0.00  \n",
       "Mad Max: Fury Road                    -0.37  \n",
       "Room                                   0.83  \n",
       "Spotlight                              0.00  \n",
       "The Big Short                          0.00  \n",
       "The Martian                            0.60  \n",
       "The Revenant                           0.75  \n",
       "\n",
       "[8 rows x 180 columns]"
      ]
     },
     "execution_count": 50,
     "metadata": {},
     "output_type": "execute_result"
    }
   ],
   "source": [
    "PredictionOscars"
   ]
  },
  {
   "cell_type": "code",
   "execution_count": 51,
   "metadata": {
    "collapsed": false
   },
   "outputs": [],
   "source": [
    "#Check to make sure columns are equivalent\n",
    "for col in PredictionOscars.columns.values:\n",
    "    if col in X.columns.values:\n",
    "        pass\n",
    "    else:\n",
    "        PredictionOscars = PredictionOscars.drop(col,1)"
   ]
  },
  {
   "cell_type": "code",
   "execution_count": 52,
   "metadata": {
    "collapsed": false
   },
   "outputs": [
    {
     "data": {
      "text/plain": [
       "RandomForestClassifier(bootstrap=True, compute_importances=None,\n",
       "            criterion='gini', max_depth=None, max_features=0.423728813559,\n",
       "            max_leaf_nodes=None, min_density=None, min_samples_leaf=1,\n",
       "            min_samples_split=2, n_estimators=125, n_jobs=-1,\n",
       "            oob_score=True, random_state=None, verbose=0)"
      ]
     },
     "execution_count": 52,
     "metadata": {},
     "output_type": "execute_result"
    }
   ],
   "source": [
    "clf = RandomForestClassifier(n_estimators=125, max_features =75/len(X.columns), oob_score= True, n_jobs=-1)\n",
    "clf.fit(X,y)\n"
   ]
  },
  {
   "cell_type": "code",
   "execution_count": 56,
   "metadata": {
    "collapsed": false
   },
   "outputs": [
    {
     "data": {
      "text/plain": [
       "[(u'Bridge of Spies', 0),\n",
       " (u'Brooklyn', 0),\n",
       " (u'Mad Max: Fury Road', 0),\n",
       " (u'Room', 0),\n",
       " (u'Spotlight', 0),\n",
       " (u'The Big Short', 0),\n",
       " (u'The Martian', 0),\n",
       " (u'The Revenant', 1)]"
      ]
     },
     "execution_count": 56,
     "metadata": {},
     "output_type": "execute_result"
    }
   ],
   "source": [
    "zip(PredictionOscars.index.values, clf.predict(PredictionOscars))"
   ]
  },
  {
   "cell_type": "markdown",
   "metadata": {},
   "source": [
    "## The Revenant wins!"
   ]
  },
  {
   "cell_type": "code",
   "execution_count": 97,
   "metadata": {
    "collapsed": false
   },
   "outputs": [
    {
     "data": {
      "text/html": [
       "\n",
       "        <iframe\n",
       "            width=\"400\"\n",
       "            height=\"300\"\n",
       "            src=\"https://www.youtube.com/embed/https://www.youtube.com/watch?v=LoebZZ8K5N0\"\n",
       "            frameborder=\"0\"\n",
       "            allowfullscreen\n",
       "        ></iframe>\n",
       "        "
      ],
      "text/plain": [
       "<IPython.lib.display.YouTubeVideo at 0x10bff6710>"
      ]
     },
     "execution_count": 97,
     "metadata": {},
     "output_type": "execute_result"
    }
   ],
   "source": [
    "YouTubeVideo(\"https://www.youtube.com/watch?v=LoebZZ8K5N0\")"
   ]
  },
  {
   "cell_type": "code",
   "execution_count": 61,
   "metadata": {
    "collapsed": false
   },
   "outputs": [
    {
     "data": {
      "text/plain": [
       "array([[ 0.888,  0.112],\n",
       "       [ 0.864,  0.136],\n",
       "       [ 0.808,  0.192],\n",
       "       [ 0.928,  0.072],\n",
       "       [ 0.928,  0.072],\n",
       "       [ 0.96 ,  0.04 ],\n",
       "       [ 0.928,  0.072],\n",
       "       [ 0.36 ,  0.64 ]])"
      ]
     },
     "execution_count": 61,
     "metadata": {},
     "output_type": "execute_result"
    }
   ],
   "source": [
    "clf.predict_proba(PredictionOscars)"
   ]
  },
  {
   "cell_type": "code",
   "execution_count": 67,
   "metadata": {
    "collapsed": false
   },
   "outputs": [],
   "source": [
    "probabilities = pd.DataFrame(clf.predict_proba(PredictionOscars), index= PredictionOscars.index.values, columns=[\"Nominee %\", \"Winner %\"])"
   ]
  },
  {
   "cell_type": "code",
   "execution_count": 68,
   "metadata": {
    "collapsed": false
   },
   "outputs": [
    {
     "data": {
      "text/html": [
       "<div>\n",
       "<table border=\"1\" class=\"dataframe\">\n",
       "  <thead>\n",
       "    <tr style=\"text-align: right;\">\n",
       "      <th></th>\n",
       "      <th>Nominee %</th>\n",
       "      <th>Winner %</th>\n",
       "    </tr>\n",
       "  </thead>\n",
       "  <tbody>\n",
       "    <tr>\n",
       "      <th>Bridge of Spies</th>\n",
       "      <td>0.888</td>\n",
       "      <td>0.112</td>\n",
       "    </tr>\n",
       "    <tr>\n",
       "      <th>Brooklyn</th>\n",
       "      <td>0.864</td>\n",
       "      <td>0.136</td>\n",
       "    </tr>\n",
       "    <tr>\n",
       "      <th>Mad Max: Fury Road</th>\n",
       "      <td>0.808</td>\n",
       "      <td>0.192</td>\n",
       "    </tr>\n",
       "    <tr>\n",
       "      <th>Room</th>\n",
       "      <td>0.928</td>\n",
       "      <td>0.072</td>\n",
       "    </tr>\n",
       "    <tr>\n",
       "      <th>Spotlight</th>\n",
       "      <td>0.928</td>\n",
       "      <td>0.072</td>\n",
       "    </tr>\n",
       "    <tr>\n",
       "      <th>The Big Short</th>\n",
       "      <td>0.960</td>\n",
       "      <td>0.040</td>\n",
       "    </tr>\n",
       "    <tr>\n",
       "      <th>The Martian</th>\n",
       "      <td>0.928</td>\n",
       "      <td>0.072</td>\n",
       "    </tr>\n",
       "    <tr>\n",
       "      <th>The Revenant</th>\n",
       "      <td>0.360</td>\n",
       "      <td>0.640</td>\n",
       "    </tr>\n",
       "  </tbody>\n",
       "</table>\n",
       "</div>"
      ],
      "text/plain": [
       "                    Nominee %  Winner %\n",
       "Bridge of Spies         0.888     0.112\n",
       "Brooklyn                0.864     0.136\n",
       "Mad Max: Fury Road      0.808     0.192\n",
       "Room                    0.928     0.072\n",
       "Spotlight               0.928     0.072\n",
       "The Big Short           0.960     0.040\n",
       "The Martian             0.928     0.072\n",
       "The Revenant            0.360     0.640"
      ]
     },
     "execution_count": 68,
     "metadata": {},
     "output_type": "execute_result"
    }
   ],
   "source": [
    "probabilities"
   ]
  },
  {
   "cell_type": "code",
   "execution_count": 89,
   "metadata": {
    "collapsed": false
   },
   "outputs": [
    {
     "data": {
      "image/png": "[encoded data removed]",
      "text/plain": [
       "<matplotlib.figure.Figure at 0x10b0e8c10>"
      ]
     },
     "metadata": {},
     "output_type": "display_data"
    }
   ],
   "source": [
    "g = sns.factorplot(x=probabilities.index, y=\"Winner %\", data=probabilities,\n",
    "                   size=10, kind=\"bar\", palette=\"RdBu_r\")"
   ]
  }
 ],
 "metadata": {
  "kernelspec": {
   "display_name": "Python 2",
   "language": "python",
   "name": "python2"
  },
  "language_info": {
   "codemirror_mode": {
    "name": "ipython",
    "version": 2
   },
   "file_extension": ".py",
   "mimetype": "text/x-python",
   "name": "python",
   "nbconvert_exporter": "python",
   "pygments_lexer": "ipython2",
   "version": "2.7.11"
  }
 },
 "nbformat": 4,
 "nbformat_minor": 0
}
